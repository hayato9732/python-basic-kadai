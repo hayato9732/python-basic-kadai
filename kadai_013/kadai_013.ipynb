{
  "nbformat": 4,
  "nbformat_minor": 0,
  "metadata": {
    "colab": {
      "provenance": []
    },
    "kernelspec": {
      "name": "python3",
      "display_name": "Python 3"
    },
    "language_info": {
      "name": "python"
    }
  },
  "cells": [
    {
      "cell_type": "code",
      "execution_count": 1,
      "metadata": {
        "colab": {
          "base_uri": "https://localhost:8080/"
        },
        "id": "MfIIpQuBQGpx",
        "outputId": "f0ebf269-4e5c-494e-abf8-311068b93084"
      },
      "outputs": [
        {
          "output_type": "stream",
          "name": "stdout",
          "text": [
            "1100.0\n"
          ]
        }
      ],
      "source": [
        "def calculate_total_price(price, tax_rate):\n",
        "    \"\"\"消費税を加えた合計金額を計算する関数\"\"\"\n",
        "    total_price = price + (price * tax_rate)\n",
        "    return total_price\n",
        "\n",
        "# 使用例\n",
        "item_price = 1000  # 商品の金額\n",
        "tax_rate = 0.10    # 消費税率（10%）\n",
        "\n",
        "total = calculate_total_price(item_price, tax_rate)\n",
        "print(total)"
      ]
    }
  ]
}