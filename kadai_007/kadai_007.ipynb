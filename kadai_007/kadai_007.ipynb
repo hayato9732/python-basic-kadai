{
  "nbformat": 4,
  "nbformat_minor": 0,
  "metadata": {
    "colab": {
      "provenance": []
    },
    "kernelspec": {
      "name": "python3",
      "display_name": "Python 3"
    },
    "language_info": {
      "name": "python"
    }
  },
  "cells": [
    {
      "cell_type": "code",
      "execution_count": 1,
      "metadata": {
        "colab": {
          "base_uri": "https://localhost:8080/"
        },
        "id": "GY4wgwKu-OGv",
        "outputId": "545c0fe3-635e-4bb4-f3a0-6bb38ed8415c"
      },
      "outputs": [
        {
          "output_type": "stream",
          "name": "stdout",
          "text": [
            "水曜日は晴れです\n",
            "水曜日の天気予報: 晴れ\n"
          ]
        }
      ],
      "source": [
        "# リストの作成\n",
        "array = [\n",
        "    \"月曜日は晴れです\",\n",
        "    \"火曜日は雨です\",\n",
        "    \"水曜日は晴れです\",\n",
        "    \"木曜日は晴れです\",\n",
        "    \"金曜日は曇りです\",\n",
        "    \"土曜日は曇りのち雨です\",\n",
        "    \"日曜日は雷雨です\"\n",
        "]\n",
        "\n",
        "# ディクショナリの作成\n",
        "dictionary = {\n",
        "    \"mon\": \"晴れ\",\n",
        "    \"tue\": \"雨\",\n",
        "    \"wed\": \"晴れ\",\n",
        "    \"thu\": \"晴れ\",\n",
        "    \"fri\": \"曇り\",\n",
        "    \"sat\": \"曇りのち雨\",\n",
        "    \"sun\": \"雷雨\"\n",
        "}\n",
        "\n",
        "# 水曜日の天気予報を出力\n",
        "print(array[2])  # リストから水曜日の予報を取り出す\n",
        "print(f\"水曜日の天気予報: {dictionary['wed']}\")  # ディクショナリから水曜日の天気を取り出す"
      ]
    }
  ]
}