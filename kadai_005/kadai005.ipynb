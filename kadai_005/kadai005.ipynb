{
  "nbformat": 4,
  "nbformat_minor": 0,
  "metadata": {
    "colab": {
      "provenance": []
    },
    "kernelspec": {
      "name": "python3",
      "display_name": "Python 3"
    },
    "language_info": {
      "name": "python"
    }
  },
  "cells": [
    {
      "cell_type": "code",
      "execution_count": 1,
      "metadata": {
        "id": "EpYSje2T4uYk",
        "colab": {
          "base_uri": "https://localhost:8080/"
        },
        "outputId": "070214d8-e58a-4618-f753-c3e5d7e8dcf2"
      },
      "outputs": [
        {
          "output_type": "stream",
          "name": "stdout",
          "text": [
            "75.0cm²\n"
          ]
        }
      ],
      "source": [
        "# 台形の各辺の長さ\n",
        "upper_base = 10  # 上辺\n",
        "lower_base = 20  # 下辺\n",
        "height = 5       # 高さ\n",
        "\n",
        "# 台形の面積を計算\n",
        "area = (upper_base + lower_base) * height / 2\n",
        "\n",
        "# 結果を出力\n",
        "print(f\"{area}cm²\")"
      ]
    }
  ]
}